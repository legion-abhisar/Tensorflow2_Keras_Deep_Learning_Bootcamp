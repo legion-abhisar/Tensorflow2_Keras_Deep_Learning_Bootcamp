{
 "cells": [
  {
   "cell_type": "code",
   "execution_count": 1,
   "id": "71e2fb36",
   "metadata": {},
   "outputs": [],
   "source": [
    "import numpy as np\n",
    "import pandas as pd"
   ]
  },
  {
   "cell_type": "code",
   "execution_count": 2,
   "id": "f7960d90",
   "metadata": {},
   "outputs": [],
   "source": [
    "labels = ['a', 'b', 'c']\n",
    "\n",
    "mylist = [10, 20, 30]\n",
    "\n",
    "arr = np.array([10, 20, 30])\n",
    "\n",
    "d = {'a':10, 'b':20, 'c':30}"
   ]
  },
  {
   "cell_type": "code",
   "execution_count": 3,
   "id": "6ffaf390",
   "metadata": {},
   "outputs": [
    {
     "data": {
      "text/plain": [
       "a    10\n",
       "b    20\n",
       "c    30\n",
       "dtype: int64"
      ]
     },
     "execution_count": 3,
     "metadata": {},
     "output_type": "execute_result"
    }
   ],
   "source": [
    "pd.Series(mylist, labels)"
   ]
  },
  {
   "cell_type": "code",
   "execution_count": 4,
   "id": "839265c2",
   "metadata": {},
   "outputs": [],
   "source": [
    "salesQ1 = pd.Series(data=[250,350,400,150], index=['USA','China','India','Brazil'])"
   ]
  },
  {
   "cell_type": "code",
   "execution_count": 6,
   "id": "732ac42a",
   "metadata": {},
   "outputs": [
    {
     "data": {
      "text/plain": [
       "USA       250\n",
       "China     350\n",
       "India     400\n",
       "Brazil    150\n",
       "dtype: int64"
      ]
     },
     "execution_count": 6,
     "metadata": {},
     "output_type": "execute_result"
    }
   ],
   "source": [
    "salesQ1"
   ]
  },
  {
   "cell_type": "code",
   "execution_count": 7,
   "id": "3c247441",
   "metadata": {},
   "outputs": [],
   "source": [
    "salesQ2 = pd.Series(data=[280,380,480,180], index=['USA','China','India','Japan'])"
   ]
  },
  {
   "cell_type": "code",
   "execution_count": 8,
   "id": "9b6352a9",
   "metadata": {},
   "outputs": [
    {
     "data": {
      "text/plain": [
       "USA      280\n",
       "China    380\n",
       "India    480\n",
       "Japan    180\n",
       "dtype: int64"
      ]
     },
     "execution_count": 8,
     "metadata": {},
     "output_type": "execute_result"
    }
   ],
   "source": [
    "salesQ2"
   ]
  },
  {
   "cell_type": "code",
   "execution_count": 9,
   "id": "b8ccf647",
   "metadata": {},
   "outputs": [
    {
     "data": {
      "text/plain": [
       "280"
      ]
     },
     "execution_count": 9,
     "metadata": {},
     "output_type": "execute_result"
    }
   ],
   "source": [
    "salesQ2['USA']"
   ]
  },
  {
   "cell_type": "code",
   "execution_count": 10,
   "id": "5dbb37f4",
   "metadata": {},
   "outputs": [
    {
     "data": {
      "text/plain": [
       "400"
      ]
     },
     "execution_count": 10,
     "metadata": {},
     "output_type": "execute_result"
    }
   ],
   "source": [
    "salesQ1[2]"
   ]
  },
  {
   "cell_type": "code",
   "execution_count": null,
   "id": "f1b3e984",
   "metadata": {},
   "outputs": [],
   "source": []
  }
 ],
 "metadata": {
  "kernelspec": {
   "display_name": "Python 3 (ipykernel)",
   "language": "python",
   "name": "python3"
  },
  "language_info": {
   "codemirror_mode": {
    "name": "ipython",
    "version": 3
   },
   "file_extension": ".py",
   "mimetype": "text/x-python",
   "name": "python",
   "nbconvert_exporter": "python",
   "pygments_lexer": "ipython3",
   "version": "3.9.13"
  }
 },
 "nbformat": 4,
 "nbformat_minor": 5
}
